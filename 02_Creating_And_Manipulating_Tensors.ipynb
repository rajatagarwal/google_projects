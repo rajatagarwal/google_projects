{
 "cells": [
  {
   "cell_type": "markdown",
   "metadata": {},
   "source": [
    "# Creating and Manipulating Tensors\n",
    "\n",
    "### Learning Objectives:\n",
    "* Initialize and assign TensorFlow variables\n",
    "* Create and manipulate tensors\n",
    "* Basic TensorFlow math and array operations"
   ]
  },
  {
   "cell_type": "code",
   "execution_count": 1,
   "metadata": {},
   "outputs": [
    {
     "name": "stdout",
     "output_type": "stream",
     "text": [
      "TF imported with eager execution\n"
     ]
    }
   ],
   "source": [
    "import tensorflow as tf\n",
    "try:\n",
    "    tf.contrib.eager.enable_eager_execution()\n",
    "    print(\"TF imported with eager execution\")\n",
    "except ValueError:\n",
    "    print(\"TF already imported with eager execution.\")"
   ]
  },
  {
   "cell_type": "markdown",
   "metadata": {},
   "source": [
    "## Vector Addition"
   ]
  },
  {
   "cell_type": "code",
   "execution_count": 2,
   "metadata": {},
   "outputs": [
    {
     "name": "stdout",
     "output_type": "stream",
     "text": [
      "primes: tf.Tensor([ 2  3  5  7 11 13], shape=(6,), dtype=int32)\n",
      "ones: tf.Tensor([1 1 1 1 1 1], shape=(6,), dtype=int32)\n",
      "just beyond primes: tf.Tensor([ 3  4  6  8 12 14], shape=(6,), dtype=int32)\n",
      "primes doubled: tf.Tensor([ 4  6 10 14 22 26], shape=(6,), dtype=int32)\n"
     ]
    }
   ],
   "source": [
    "primes = tf.constant([2, 3, 5, 7, 11, 13], dtype=tf.int32)\n",
    "print(\"primes:\", primes)\n",
    "\n",
    "ones = tf.ones([6], dtype=tf.int32)\n",
    "print(\"ones:\", ones)\n",
    "\n",
    "just_beyond_primes = tf.add(primes, ones)\n",
    "print(\"just beyond primes:\", just_beyond_primes)\n",
    "\n",
    "twos = tf.constant([2, 2, 2, 2, 2, 2], dtype=tf.int32)\n",
    "primes_doubled = primes * twos\n",
    "print(\"primes doubled:\", primes_doubled)"
   ]
  },
  {
   "cell_type": "markdown",
   "metadata": {},
   "source": [
    "Priting a tensor will return its value, shape, dtype. To only see the value return tensor as a numpy array."
   ]
  },
  {
   "cell_type": "code",
   "execution_count": 3,
   "metadata": {},
   "outputs": [
    {
     "name": "stdout",
     "output_type": "stream",
     "text": [
      "primes doubled: [ 4  6 10 14 22 26]\n"
     ]
    }
   ],
   "source": [
    "print(\"primes doubled:\", primes_doubled.numpy())"
   ]
  },
  {
   "cell_type": "markdown",
   "metadata": {},
   "source": [
    "We can also get only shape using get_shape()"
   ]
  },
  {
   "cell_type": "code",
   "execution_count": 4,
   "metadata": {},
   "outputs": [
    {
     "name": "stdout",
     "output_type": "stream",
     "text": [
      "Shape of primes doubled: (6,)\n"
     ]
    }
   ],
   "source": [
    "print(\"Shape of primes doubled:\", primes_doubled.get_shape())"
   ]
  },
  {
   "cell_type": "markdown",
   "metadata": {},
   "source": [
    "## Exercise 1: Aritmatic over vectors.\n",
    "\n",
    "use tf.multiply or tf.pows to just_under_primes_squared. 3*3 -1 = 8"
   ]
  },
  {
   "cell_type": "code",
   "execution_count": 5,
   "metadata": {},
   "outputs": [
    {
     "name": "stdout",
     "output_type": "stream",
     "text": [
      "tf.Tensor([ 3  5  9 13 21 25], shape=(6,), dtype=int32)\n"
     ]
    }
   ],
   "source": [
    "just_under_primes_squared = tf.subtract(tf.multiply(primes, 2), tf.ones([6], dtype=tf.int32))\n",
    "print(just_under_primes_squared)"
   ]
  },
  {
   "cell_type": "markdown",
   "metadata": {},
   "source": [
    "## Reshaping Tensors"
   ]
  },
  {
   "cell_type": "markdown",
   "metadata": {},
   "source": [
    " You can use tf.reshape() method to reshape a tensor. You can reshape 8*2 to 2*8 or 4*4. Even you can change dimensions like you can make it 3d 2*2*4 or 1d 16 element tensor."
   ]
  },
  {
   "cell_type": "code",
   "execution_count": 6,
   "metadata": {},
   "outputs": [
    {
     "name": "stdout",
     "output_type": "stream",
     "text": [
      "Matrix:\n",
      " [[ 1  2]\n",
      " [ 3  4]\n",
      " [ 5  6]\n",
      " [ 7  8]\n",
      " [ 9 10]\n",
      " [11 12]\n",
      " [13 14]\n",
      " [15 16]]\n",
      "Matrix shape: (8, 2)\n",
      "**************************************************\n",
      "Reshaped 8*2 Matrix: \n",
      " [[ 1  2  3  4  5  6  7  8]\n",
      " [ 9 10 11 12 13 14 15 16]]\n",
      "Reshaped 8*2 Matrix shape: (2, 8)\n",
      "**************************************************\n",
      "Reshaped 4*4 Matrix: \n",
      " [[ 1  2  3  4]\n",
      " [ 5  6  7  8]\n",
      " [ 9 10 11 12]\n",
      " [13 14 15 16]]\n",
      "Reshaped 4*4 Matrix shape:  (4, 4)\n",
      "**************************************************\n",
      "Reshaped 2*2*4 Matrix: \n",
      " [[[ 1  2  3  4]\n",
      "  [ 5  6  7  8]]\n",
      "\n",
      " [[ 9 10 11 12]\n",
      "  [13 14 15 16]]]\n",
      "Reshaped 2*2*4 Matrix shape: (2, 2, 4)\n",
      "**************************************************\n",
      "Reshaped 16*1 Matrix (1-D): \n",
      " [ 1  2  3  4  5  6  7  8  9 10 11 12 13 14 15 16]\n",
      "Reshaped 16*1 Matrix (1-D) shape: (16,)\n"
     ]
    }
   ],
   "source": [
    "matrix = tf.constant(\n",
    "    [[1, 2], [3, 4], [5, 6], [7, 8], [9, 10], [11, 12], [13, 14], [15, 16]], dtype=tf.int32\n",
    ")\n",
    "\n",
    "print(\"Matrix:\\n\", matrix.numpy())\n",
    "print(\"Matrix shape:\", matrix.get_shape())\n",
    "\n",
    "print(\"*\" * 50)\n",
    "\n",
    "reshaped_8_by_2_matrix = tf.reshape(matrix, [2, 8])\n",
    "print(\"Reshaped 8*2 Matrix: \\n\", reshaped_8_by_2_matrix.numpy())\n",
    "print(\"Reshaped 8*2 Matrix shape:\", reshaped_8_by_2_matrix.get_shape())\n",
    "\n",
    "print(\"*\" * 50)\n",
    "reshaped_4_by_4_matrix = tf.reshape(matrix, [4, 4])\n",
    "print(\"Reshaped 4*4 Matrix: \\n\", reshaped_4_by_4_matrix.numpy())\n",
    "print(\"Reshaped 4*4 Matrix shape: \", reshaped_4_by_4_matrix.get_shape())\n",
    "\n",
    "print(\"*\" * 50)\n",
    "reshaped_2_by_2_by_4_matrix = tf.reshape(matrix, [2, 2, 4])\n",
    "print(\"Reshaped 2*2*4 Matrix: \\n\", reshaped_2_by_2_by_4_matrix.numpy())\n",
    "print(\"Reshaped 2*2*4 Matrix shape:\", reshaped_2_by_2_by_4_matrix.get_shape())\n",
    "\n",
    "print(\"*\" * 50)\n",
    "reshaped_16_by_1_matrix = tf.reshape(matrix, [16])\n",
    "print(\"Reshaped 16*1 Matrix (1-D): \\n\", reshaped_16_by_1_matrix.numpy())\n",
    "print(\"Reshaped 16*1 Matrix (1-D) shape:\", reshaped_16_by_1_matrix.get_shape())"
   ]
  },
  {
   "cell_type": "markdown",
   "metadata": {},
   "source": [
    "## Exercise 2: Reshape 2 matrix and multiple them"
   ]
  },
  {
   "cell_type": "code",
   "execution_count": 7,
   "metadata": {},
   "outputs": [
    {
     "name": "stdout",
     "output_type": "stream",
     "text": [
      "Matrix product: \n",
      " [[44]\n",
      " [46]]\n",
      "Matrix product shape:  (2, 1)\n"
     ]
    }
   ],
   "source": [
    "a = tf.constant([5, 3, 2, 7, 1, 4], dtype=tf.int32)\n",
    "# shape is (6,)\n",
    "b = tf.constant([4, 6, 3], dtype=tf.int32)\n",
    "# shape is (3, )\n",
    "\n",
    "# for matrix multiplication we can reshape a to (2,3) so that we can do matrix multiplication\n",
    "a_2_by_3 = tf.reshape(a, [2, 3])\n",
    "b_3_by_1 = tf.reshape(b, [3, 1])\n",
    "\n",
    "c = tf.matmul(a_2_by_3, b_3_by_1)\n",
    "print(\"Matrix product: \\n\", c.numpy())\n",
    "print(\"Matrix product shape: \", c.get_shape())"
   ]
  },
  {
   "cell_type": "markdown",
   "metadata": {},
   "source": [
    "## Variables, Initialization and Assignments"
   ]
  },
  {
   "cell_type": "code",
   "execution_count": 8,
   "metadata": {},
   "outputs": [
    {
     "name": "stdout",
     "output_type": "stream",
     "text": [
      "v: [3]\n",
      "w: [[0.8443799 0.7835059 1.0376238 1.0404005]]\n"
     ]
    }
   ],
   "source": [
    "# Create a scalar vector and initliaze with 3.\n",
    "v = tf.contrib.eager.Variable([3])\n",
    "\n",
    "# Create a vector variable of shape [1, 4], with random values, \n",
    "# sampled from a normal distribution with mean 1 and standard deviation 0.35\n",
    "w = tf.contrib.eager.Variable(tf.random_normal([1, 4], mean=1.0, stddev=0.35))\n",
    "\n",
    "print(\"v:\", v.numpy())\n",
    "print(\"w:\", w.numpy())"
   ]
  },
  {
   "cell_type": "markdown",
   "metadata": {},
   "source": [
    "To change the value of the variable we can use \"assign\" op."
   ]
  },
  {
   "cell_type": "code",
   "execution_count": 12,
   "metadata": {},
   "outputs": [
    {
     "name": "stdout",
     "output_type": "stream",
     "text": [
      "[3]\n",
      "[7]\n",
      "[5]\n"
     ]
    }
   ],
   "source": [
    "v = tf.contrib.eager.Variable([3])\n",
    "print(v.numpy())\n",
    "\n",
    "# changing value of v\n",
    "tf.assign(v, [7])\n",
    "print(v.numpy())\n",
    "\n",
    "# changing again\n",
    "tf.assign(v, [5])\n",
    "print(v.numpy())"
   ]
  },
  {
   "cell_type": "markdown",
   "metadata": {},
   "source": [
    "When assigning a new value to the variable its shape must be equal to its previous shape"
   ]
  },
  {
   "cell_type": "code",
   "execution_count": 14,
   "metadata": {},
   "outputs": [
    {
     "name": "stdout",
     "output_type": "stream",
     "text": [
      "[[1 2 3]\n",
      " [4 5 6]]\n",
      "Assign [7,8,9] to v\n",
      "Exception:  Shapes (2, 3) and (3,) are incompatible\n"
     ]
    }
   ],
   "source": [
    "v = tf.contrib.eager.Variable([[1,2,3], [4,5,6]])\n",
    "print(v.numpy())\n",
    "\n",
    "try:\n",
    "    print(\"Assign [7,8,9] to v\")\n",
    "    v.assign([7,8,9])\n",
    "except ValueError as e:\n",
    "    print(\"Exception: \", e)\n"
   ]
  },
  {
   "cell_type": "markdown",
   "metadata": {},
   "source": []
  }
 ],
 "metadata": {
  "kernelspec": {
   "display_name": "Python 3",
   "language": "python",
   "name": "python3"
  },
  "language_info": {
   "codemirror_mode": {
    "name": "ipython",
    "version": 3
   },
   "file_extension": ".py",
   "mimetype": "text/x-python",
   "name": "python",
   "nbconvert_exporter": "python",
   "pygments_lexer": "ipython3",
   "version": "3.5.2"
  }
 },
 "nbformat": 4,
 "nbformat_minor": 2
}
