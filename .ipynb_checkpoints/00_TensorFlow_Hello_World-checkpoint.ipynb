{
 "cells": [
  {
   "cell_type": "markdown",
   "metadata": {},
   "source": [
    "# Hello World! "
   ]
  },
  {
   "cell_type": "markdown",
   "metadata": {},
   "source": [
    "The code block is the \"Hello World\" TensorFlow Program. \n",
    "\n",
    "It consists of initialation code (importing TensorFlow module and enabling \"eager execution\") and printing \"Hello, World\" string constant."
   ]
  },
  {
   "cell_type": "code",
   "execution_count": 1,
   "metadata": {},
   "outputs": [
    {
     "name": "stdout",
     "output_type": "stream",
     "text": [
      "b'Hello, world.'\n"
     ]
    }
   ],
   "source": [
    "import tensorflow as tf\n",
    "\n",
    "try:\n",
    "    tf.contrib.eager.enable_eager_execution()\n",
    "except ValueError:\n",
    "    pass # enable_eager_execution errors after its first call\n",
    "\n",
    "tensor = tf.constant(\"Hello, world.\")\n",
    "tensor_value = tensor.numpy()\n",
    "print(tensor_value)"
   ]
  },
  {
   "cell_type": "code",
   "execution_count": 2,
   "metadata": {},
   "outputs": [
    {
     "name": "stdout",
     "output_type": "stream",
     "text": [
      "tf.Tensor(b'Hello from Rajat.', shape=(), dtype=string)\n",
      "b'Hello from Rajat.'\n"
     ]
    }
   ],
   "source": [
    "# Import tensor flow module\n",
    "import tensorflow as tf\n",
    "\n",
    "# Enable eager execution\n",
    "try:\n",
    "    tf.contrib.eager.enable_eager_execution()\n",
    "except ValueError:\n",
    "    pass # enable_eager_execution errors after its first call\n",
    "\n",
    "# Setting string constant\n",
    "tensor = tf.constant(\"Hello from Rajat.\")\n",
    "tensor_value = tensor.numpy()\n",
    "\n",
    "# Printing the value\n",
    "print(tensor)\n",
    "print(tensor_value)"
   ]
  },
  {
   "cell_type": "code",
   "execution_count": null,
   "metadata": {},
   "outputs": [],
   "source": []
  }
 ],
 "metadata": {
  "kernelspec": {
   "display_name": "Python 3",
   "language": "python",
   "name": "python3"
  },
  "language_info": {
   "codemirror_mode": {
    "name": "ipython",
    "version": 3
   },
   "file_extension": ".py",
   "mimetype": "text/x-python",
   "name": "python",
   "nbconvert_exporter": "python",
   "pygments_lexer": "ipython3",
   "version": "3.5.2"
  }
 },
 "nbformat": 4,
 "nbformat_minor": 2
}
