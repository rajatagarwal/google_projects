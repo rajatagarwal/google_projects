{
 "cells": [
  {
   "cell_type": "markdown",
   "metadata": {},
   "source": [
    "# TensorFlow Programming Concepts"
   ]
  },
  {
   "cell_type": "markdown",
   "metadata": {},
   "source": [
    "### Learning Objective:\n",
    "\n",
    "* Learn the basics of TensorFlow programming model, focusing on the following concepts:\n",
    "    - tensors\n",
    "    - operations\n",
    "    - graphs\n",
    "    - sessions\n",
    "\n",
    "* Build the simple tensorflow program that creates a default graph, and session that runs the graph."
   ]
  },
  {
   "cell_type": "markdown",
   "metadata": {},
   "source": [
    "## Overview of concepts:\n",
    "\n",
    "* TensorFlow name derived from tensors. Tensors are array of arbitrary dimensions.\n",
    "* TensorFlow can manipulate tensors with very high dimensions\n",
    "* Mostly we use TensorFlow operations in the programming. The TensorFlow operation consists of creating, destroying and manipulating tensors\n",
    "* TensorFlow Graphs - TensorFlow works in a graph data structures. The nodes of the graph are the operations and edges are tensors.\n",
    "* TensorFlow implements \"Lazy Execution Models\". \n",
    "* Tensors can be stored in a graph by a constant or variable."
   ]
  },
  {
   "cell_type": "code",
   "execution_count": 2,
   "metadata": {},
   "outputs": [
    {
     "name": "stdout",
     "output_type": "stream",
     "text": [
      "[5]\n"
     ]
    }
   ],
   "source": [
    "import tensorflow as tf\n",
    "\n",
    "# To define a constant, use the tf.constant operator.\n",
    "x = tf.constant(5.2)\n",
    "\n",
    "# We can create a variable like\n",
    "y = tf.Variable([5])\n",
    "\n",
    "# Or you can create a variable and assign it later\n",
    "y = tf.Variable([0])\n",
    "y = y.assign([5])\n",
    "\n",
    "# Graphs must run with TensorFlow session. Which hold state of the graph it runs:\n",
    "with tf.Session() as sess:\n",
    "    initialization = tf.global_variables_initializer()\n",
    "    print(y.eval())"
   ]
  },
  {
   "cell_type": "markdown",
   "metadata": {},
   "source": [
    "* When working with tf.Variable we need to explicitly initialize them with global_variables_initializer in the session, as shown above.\n",
    "* Also, a session can distribute graph execution over multiple machines. See more on Distributed TensorFlow (https://www.tensorflow.org/deploy/distributed)\n",
    "\n",
    "### Summary:\n",
    "TensorFlow programming is essentially two step process:\n",
    "1. Assemble constants, variables and operations into a graph.\n",
    "2. Evaluate those constants, variables and operations within a session."
   ]
  },
  {
   "cell_type": "markdown",
   "metadata": {},
   "source": [
    "## Creating a simple TensorFlow program"
   ]
  },
  {
   "cell_type": "code",
   "execution_count": 5,
   "metadata": {},
   "outputs": [
    {
     "name": "stdout",
     "output_type": "stream",
     "text": [
      "13\n"
     ]
    }
   ],
   "source": [
    "# import tensorflow module\n",
    "import tensorflow as tf\n",
    "\n",
    "# create a graph\n",
    "g = tf.Graph()\n",
    "\n",
    "# establish the graph as default graph\n",
    "with g.as_default():\n",
    "    # Assemble a graph consist of following three operations:\n",
    "    #  * Two tf.constant operations to create the operands.\n",
    "    #  * One tf.add operation to add the operands.\n",
    "    x = tf.constant(8, name=\"x_const\")\n",
    "    y = tf.constant(5, name=\"y_const\")\n",
    "    my_sum = tf.add(x, y, name=\"x_y_sum\")\n",
    "    \n",
    "    # Now create a session\n",
    "    # This session will run the default graph\n",
    "    with tf.Session() as sess:\n",
    "        print(my_sum.eval())"
   ]
  },
  {
   "cell_type": "markdown",
   "metadata": {},
   "source": [
    "## Exercise to add the third operand"
   ]
  },
  {
   "cell_type": "code",
   "execution_count": 6,
   "metadata": {},
   "outputs": [
    {
     "name": "stdout",
     "output_type": "stream",
     "text": [
      "23\n"
     ]
    }
   ],
   "source": [
    "g1 = tf.Graph()\n",
    "\n",
    "with g1.as_default():\n",
    "    x = tf.constant(8, name=\"x_const\")\n",
    "    y = tf.constant(5, name=\"y_const\")\n",
    "    my_sum_1 = tf.add(x, y, name=\"x_y_sum\")\n",
    "    \n",
    "    # add 3rd constant operand\n",
    "    z = tf.constant(10, name=\"z_const\")\n",
    "    my_sum_2 = tf.add(my_sum_1, z, name=\"x_y_z_sum\")\n",
    "    \n",
    "    with tf.Session() as sess:\n",
    "        print(my_sum_2.eval())"
   ]
  },
  {
   "cell_type": "code",
   "execution_count": null,
   "metadata": {},
   "outputs": [],
   "source": []
  }
 ],
 "metadata": {
  "kernelspec": {
   "display_name": "Python 3",
   "language": "python",
   "name": "python3"
  },
  "language_info": {
   "codemirror_mode": {
    "name": "ipython",
    "version": 3
   },
   "file_extension": ".py",
   "mimetype": "text/x-python",
   "name": "python",
   "nbconvert_exporter": "python",
   "pygments_lexer": "ipython3",
   "version": "3.5.2"
  }
 },
 "nbformat": 4,
 "nbformat_minor": 2
}
